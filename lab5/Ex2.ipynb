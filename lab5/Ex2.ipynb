{
 "cells": [
  {
   "cell_type": "markdown",
   "metadata": {},
   "source": [
    "# Вправа 2"
   ]
  },
  {
   "cell_type": "markdown",
   "metadata": {},
   "source": [
    "Одним з недоліків дерев прийняття рішень є їхня варіативність: при найменшій зміні навчальних даних, побудоване дерево може виглядати абсолютно інакше. Відповідно важко зберігати стійкість моделі."
   ]
  },
  {
   "cell_type": "markdown",
   "metadata": {},
   "source": [
    "Ця проблема вирішується методами асамблювання (ensemble methods). Найчастіше використовуються беггінг (bagging) та бустінг (boosting)."
   ]
  },
  {
   "cell_type": "markdown",
   "metadata": {},
   "source": [
    "Принцип роботи цих методів полягає у створенні не однієї моделі (одного дерева), а набору моделей.\n",
    "\n",
    "Наприклад, ми створюємо модель з 100 дерев. При цьому, ми не хочемо мати 100 абсолютно одинакових дерев, навчивши їх на одних і тих же даних. Тому ми генеруємо з початкового навчального датасету 100 нових навчальних датасетів (для кожного дерева свій).\n",
    "\n",
    "Основна різниця між методами беггінгу та бустингу полягає у тому, як генеруються датасети.\n",
    "\n",
    "У випадку беггінгу, кожен запис з початкового навчального датасету має одинакову ймовірність потрапити в новий навчальний датасет. При бустингу, для кожного запису встановлюються певні ваги і певні дані мають більшу ймовірність потрапити в нові навчальні датасети ніж інші.\n",
    "\n",
    "Зверніть увагу, що в обох методах немає заборони на входження певного запису у новий датасет більш ніж один раз, тобто дані в межах окремого нового датасету можуть повторюватись."
   ]
  },
  {
   "cell_type": "markdown",
   "metadata": {},
   "source": [
    "На практиці, при беггінгу всі дерева є незалежними між собою і можуть навчатись паралельно.\n",
    "\n",
    "У бустингу ж при навчанні i-того дерева використовуються ваги з результатів попереднього дерева.\n",
    "\n",
    "При цьому вага встановлюється більшою для тих даних, в яких навчене дерево зробило помилку. Таким чином підкреслюється, що це складніший випадок і його треба краще вивчити.\n",
    "\n",
    "Як наслідок, навчання є послідовних і повільнішим."
   ]
  },
  {
   "cell_type": "markdown",
   "metadata": {},
   "source": [
    "![](bagging-vs-boosting.png)"
   ]
  },
  {
   "cell_type": "markdown",
   "metadata": {},
   "source": [
    "За аналонічним принципом відбувається і визначення кінцевого результату складної моделі.\n",
    "\n",
    "При беггінгу, кінцеве значення моделі є середнім між значеннями окремих дерев.\n",
    "\n",
    "Бустинг ж також встановлює ваги кожному дереву на основі якості його передбачень."
   ]
  },
  {
   "cell_type": "markdown",
   "metadata": {},
   "source": [
    "## Підготовка до практики"
   ]
  },
  {
   "cell_type": "markdown",
   "metadata": {},
   "source": [
    "Встановіть необхідні залежності"
   ]
  },
  {
   "cell_type": "code",
   "execution_count": 1,
   "metadata": {
    "ExecuteTime": {
     "end_time": "2023-12-07T00:07:27.917459500Z",
     "start_time": "2023-12-07T00:07:08.587461900Z"
    }
   },
   "outputs": [
    {
     "name": "stdout",
     "output_type": "stream",
     "text": [
      "Collecting xgboost\n",
      "  Obtaining dependency information for xgboost from https://files.pythonhosted.org/packages/bc/43/242432efc3f60052a4a534dc4926b21e236ab4ec8d4920c593da3f65c65d/xgboost-2.0.2-py3-none-win_amd64.whl.metadata\n",
      "  Downloading xgboost-2.0.2-py3-none-win_amd64.whl.metadata (2.0 kB)\n",
      "Requirement already satisfied: numpy in c:\\users\\admin\\anaconda3\\lib\\site-packages (from xgboost) (1.24.3)\n",
      "Requirement already satisfied: scipy in c:\\users\\admin\\anaconda3\\lib\\site-packages (from xgboost) (1.11.1)\n",
      "Downloading xgboost-2.0.2-py3-none-win_amd64.whl (99.8 MB)\n",
      "   ---------------------------------------- 0.0/99.8 MB ? eta -:--:--\n",
      "   ---------------------------------------- 0.0/99.8 MB ? eta -:--:--\n",
      "   ---------------------------------------- 0.0/99.8 MB 653.6 kB/s eta 0:02:33\n",
      "   ---------------------------------------- 0.3/99.8 MB 2.6 MB/s eta 0:00:39\n",
      "   ---------------------------------------- 0.7/99.8 MB 5.3 MB/s eta 0:00:19\n",
      "   ---------------------------------------- 1.1/99.8 MB 6.5 MB/s eta 0:00:16\n",
      "    --------------------------------------- 1.6/99.8 MB 7.2 MB/s eta 0:00:14\n",
      "    --------------------------------------- 2.1/99.8 MB 8.2 MB/s eta 0:00:12\n",
      "   - -------------------------------------- 2.5/99.8 MB 8.5 MB/s eta 0:00:12\n",
      "   - -------------------------------------- 3.0/99.8 MB 9.2 MB/s eta 0:00:11\n",
      "   - -------------------------------------- 3.5/99.8 MB 9.3 MB/s eta 0:00:11\n",
      "   - -------------------------------------- 4.0/99.8 MB 9.8 MB/s eta 0:00:10\n",
      "   - -------------------------------------- 4.4/99.8 MB 9.8 MB/s eta 0:00:10\n",
      "   - -------------------------------------- 4.9/99.8 MB 9.8 MB/s eta 0:00:10\n",
      "   -- ------------------------------------- 5.4/99.8 MB 10.1 MB/s eta 0:00:10\n",
      "   -- ------------------------------------- 5.9/99.8 MB 10.1 MB/s eta 0:00:10\n",
      "   -- ------------------------------------- 6.3/99.8 MB 10.4 MB/s eta 0:00:10\n",
      "   -- ------------------------------------- 6.8/99.8 MB 10.3 MB/s eta 0:00:09\n",
      "   -- ------------------------------------- 7.3/99.8 MB 10.6 MB/s eta 0:00:09\n",
      "   --- ------------------------------------ 7.9/99.8 MB 10.5 MB/s eta 0:00:09\n",
      "   --- ------------------------------------ 8.3/99.8 MB 10.7 MB/s eta 0:00:09\n",
      "   --- ------------------------------------ 8.8/99.8 MB 10.6 MB/s eta 0:00:09\n",
      "   --- ------------------------------------ 9.2/99.8 MB 10.7 MB/s eta 0:00:09\n",
      "   --- ------------------------------------ 9.8/99.8 MB 10.8 MB/s eta 0:00:09\n",
      "   ---- ----------------------------------- 10.2/99.8 MB 10.9 MB/s eta 0:00:09\n",
      "   ---- ----------------------------------- 10.7/99.8 MB 11.7 MB/s eta 0:00:08\n",
      "   ---- ----------------------------------- 11.2/99.8 MB 11.7 MB/s eta 0:00:08\n",
      "   ---- ----------------------------------- 11.6/99.8 MB 11.9 MB/s eta 0:00:08\n",
      "   ---- ----------------------------------- 12.0/99.8 MB 11.9 MB/s eta 0:00:08\n",
      "   ----- ---------------------------------- 12.5/99.8 MB 11.7 MB/s eta 0:00:08\n",
      "   ----- ---------------------------------- 13.0/99.8 MB 11.9 MB/s eta 0:00:08\n",
      "   ----- ---------------------------------- 13.4/99.8 MB 11.7 MB/s eta 0:00:08\n",
      "   ----- ---------------------------------- 13.9/99.8 MB 11.9 MB/s eta 0:00:08\n",
      "   ----- ---------------------------------- 14.4/99.8 MB 11.9 MB/s eta 0:00:08\n",
      "   ----- ---------------------------------- 14.9/99.8 MB 11.9 MB/s eta 0:00:08\n",
      "   ------ --------------------------------- 15.3/99.8 MB 11.9 MB/s eta 0:00:08\n",
      "   ------ --------------------------------- 15.8/99.8 MB 11.7 MB/s eta 0:00:08\n",
      "   ------ --------------------------------- 16.2/99.8 MB 11.9 MB/s eta 0:00:08\n",
      "   ------ --------------------------------- 16.7/99.8 MB 11.7 MB/s eta 0:00:08\n",
      "   ------ --------------------------------- 17.2/99.8 MB 11.9 MB/s eta 0:00:07\n",
      "   ------- -------------------------------- 17.7/99.8 MB 11.7 MB/s eta 0:00:08\n",
      "   ------- -------------------------------- 18.2/99.8 MB 11.9 MB/s eta 0:00:07\n",
      "   ------- -------------------------------- 18.6/99.8 MB 11.9 MB/s eta 0:00:07\n",
      "   ------- -------------------------------- 19.1/99.8 MB 11.9 MB/s eta 0:00:07\n",
      "   ------- -------------------------------- 19.6/99.8 MB 11.9 MB/s eta 0:00:07\n",
      "   -------- ------------------------------- 20.1/99.8 MB 11.7 MB/s eta 0:00:07\n",
      "   -------- ------------------------------- 20.5/99.8 MB 11.9 MB/s eta 0:00:07\n",
      "   -------- ------------------------------- 21.1/99.8 MB 11.9 MB/s eta 0:00:07\n",
      "   -------- ------------------------------- 21.6/99.8 MB 11.7 MB/s eta 0:00:07\n",
      "   -------- ------------------------------- 22.1/99.8 MB 11.9 MB/s eta 0:00:07\n",
      "   --------- ------------------------------ 22.5/99.8 MB 11.9 MB/s eta 0:00:07\n",
      "   --------- ------------------------------ 23.0/99.8 MB 11.7 MB/s eta 0:00:07\n",
      "   --------- ------------------------------ 23.5/99.8 MB 11.9 MB/s eta 0:00:07\n",
      "   --------- ------------------------------ 23.9/99.8 MB 11.9 MB/s eta 0:00:07\n",
      "   --------- ------------------------------ 24.3/99.8 MB 11.7 MB/s eta 0:00:07\n",
      "   --------- ------------------------------ 24.8/99.8 MB 11.9 MB/s eta 0:00:07\n",
      "   ---------- ----------------------------- 25.3/99.8 MB 11.7 MB/s eta 0:00:07\n",
      "   ---------- ----------------------------- 25.7/99.8 MB 11.9 MB/s eta 0:00:07\n",
      "   ---------- ----------------------------- 26.2/99.8 MB 11.9 MB/s eta 0:00:07\n",
      "   ---------- ----------------------------- 26.7/99.8 MB 11.9 MB/s eta 0:00:07\n",
      "   ---------- ----------------------------- 27.2/99.8 MB 11.9 MB/s eta 0:00:07\n",
      "   ----------- ---------------------------- 27.6/99.8 MB 11.7 MB/s eta 0:00:07\n",
      "   ----------- ---------------------------- 28.1/99.8 MB 11.9 MB/s eta 0:00:07\n",
      "   ----------- ---------------------------- 28.7/99.8 MB 11.9 MB/s eta 0:00:06\n",
      "   ----------- ---------------------------- 29.2/99.8 MB 11.9 MB/s eta 0:00:06\n",
      "   ----------- ---------------------------- 29.7/99.8 MB 11.9 MB/s eta 0:00:06\n",
      "   ------------ --------------------------- 30.1/99.8 MB 11.9 MB/s eta 0:00:06\n",
      "   ------------ --------------------------- 30.6/99.8 MB 11.7 MB/s eta 0:00:06\n",
      "   ------------ --------------------------- 31.1/99.8 MB 11.9 MB/s eta 0:00:06\n",
      "   ------------ --------------------------- 31.5/99.8 MB 11.7 MB/s eta 0:00:06\n",
      "   ------------ --------------------------- 32.0/99.8 MB 11.9 MB/s eta 0:00:06\n",
      "   ------------- -------------------------- 32.5/99.8 MB 11.7 MB/s eta 0:00:06\n",
      "   ------------- -------------------------- 32.9/99.8 MB 11.9 MB/s eta 0:00:06\n",
      "   ------------- -------------------------- 33.5/99.8 MB 11.9 MB/s eta 0:00:06\n",
      "   ------------- -------------------------- 33.9/99.8 MB 11.7 MB/s eta 0:00:06\n",
      "   ------------- -------------------------- 34.4/99.8 MB 11.9 MB/s eta 0:00:06\n",
      "   ------------- -------------------------- 34.9/99.8 MB 11.7 MB/s eta 0:00:06\n",
      "   -------------- ------------------------- 35.3/99.8 MB 11.9 MB/s eta 0:00:06\n",
      "   -------------- ------------------------- 35.9/99.8 MB 11.9 MB/s eta 0:00:06\n",
      "   -------------- ------------------------- 36.4/99.8 MB 11.9 MB/s eta 0:00:06\n",
      "   -------------- ------------------------- 36.9/99.8 MB 11.9 MB/s eta 0:00:06\n",
      "   -------------- ------------------------- 37.3/99.8 MB 11.9 MB/s eta 0:00:06\n",
      "   --------------- ------------------------ 37.8/99.8 MB 11.7 MB/s eta 0:00:06\n",
      "   --------------- ------------------------ 38.3/99.8 MB 11.9 MB/s eta 0:00:06\n",
      "   --------------- ------------------------ 38.8/99.8 MB 11.7 MB/s eta 0:00:06\n",
      "   --------------- ------------------------ 39.2/99.8 MB 11.9 MB/s eta 0:00:06\n",
      "   --------------- ------------------------ 39.7/99.8 MB 11.9 MB/s eta 0:00:06\n",
      "   ---------------- ----------------------- 40.2/99.8 MB 11.9 MB/s eta 0:00:06\n",
      "   ---------------- ----------------------- 40.7/99.8 MB 11.9 MB/s eta 0:00:05\n",
      "   ---------------- ----------------------- 41.3/99.8 MB 11.9 MB/s eta 0:00:05\n",
      "   ---------------- ----------------------- 41.9/99.8 MB 11.7 MB/s eta 0:00:05\n",
      "   ----------------- ---------------------- 42.4/99.8 MB 11.7 MB/s eta 0:00:05\n",
      "   ----------------- ---------------------- 43.0/99.8 MB 11.7 MB/s eta 0:00:05\n",
      "   ----------------- ---------------------- 43.6/99.8 MB 11.7 MB/s eta 0:00:05\n",
      "   ----------------- ---------------------- 44.1/99.8 MB 11.7 MB/s eta 0:00:05\n",
      "   ----------------- ---------------------- 44.7/99.8 MB 11.7 MB/s eta 0:00:05\n",
      "   ------------------ --------------------- 45.2/99.8 MB 11.7 MB/s eta 0:00:05\n",
      "   ------------------ --------------------- 45.8/99.8 MB 11.7 MB/s eta 0:00:05\n",
      "   ------------------ --------------------- 46.3/99.8 MB 11.7 MB/s eta 0:00:05\n",
      "   ------------------ --------------------- 46.9/99.8 MB 11.7 MB/s eta 0:00:05\n",
      "   ------------------- -------------------- 47.5/99.8 MB 11.7 MB/s eta 0:00:05\n",
      "   ------------------- -------------------- 48.0/99.8 MB 11.7 MB/s eta 0:00:05\n",
      "   ------------------- -------------------- 48.5/99.8 MB 11.7 MB/s eta 0:00:05\n",
      "   ------------------- -------------------- 49.1/99.8 MB 11.7 MB/s eta 0:00:05\n",
      "   ------------------- -------------------- 49.6/99.8 MB 11.7 MB/s eta 0:00:05\n",
      "   -------------------- ------------------- 50.2/99.8 MB 11.7 MB/s eta 0:00:05\n",
      "   -------------------- ------------------- 50.8/99.8 MB 11.7 MB/s eta 0:00:05\n",
      "   -------------------- ------------------- 51.2/99.8 MB 11.9 MB/s eta 0:00:05\n",
      "   -------------------- ------------------- 51.7/99.8 MB 11.7 MB/s eta 0:00:05\n",
      "   -------------------- ------------------- 52.2/99.8 MB 11.9 MB/s eta 0:00:05\n",
      "   --------------------- ------------------ 52.6/99.8 MB 11.7 MB/s eta 0:00:05\n",
      "   --------------------- ------------------ 53.1/99.8 MB 11.9 MB/s eta 0:00:04\n",
      "   --------------------- ------------------ 53.6/99.8 MB 11.9 MB/s eta 0:00:04\n",
      "   --------------------- ------------------ 54.0/99.8 MB 11.9 MB/s eta 0:00:04\n",
      "   --------------------- ------------------ 54.5/99.8 MB 11.9 MB/s eta 0:00:04\n",
      "   ---------------------- ----------------- 55.0/99.8 MB 11.9 MB/s eta 0:00:04\n",
      "   ---------------------- ----------------- 55.5/99.8 MB 11.9 MB/s eta 0:00:04\n",
      "   ---------------------- ----------------- 55.9/99.8 MB 11.7 MB/s eta 0:00:04\n",
      "   ---------------------- ----------------- 56.4/99.8 MB 11.9 MB/s eta 0:00:04\n",
      "   ---------------------- ----------------- 56.9/99.8 MB 11.7 MB/s eta 0:00:04\n",
      "   ----------------------- ---------------- 57.4/99.8 MB 11.9 MB/s eta 0:00:04\n",
      "   ----------------------- ---------------- 57.8/99.8 MB 11.9 MB/s eta 0:00:04\n",
      "   ----------------------- ---------------- 58.3/99.8 MB 11.9 MB/s eta 0:00:04\n",
      "   ----------------------- ---------------- 58.8/99.8 MB 11.9 MB/s eta 0:00:04\n",
      "   ----------------------- ---------------- 59.3/99.8 MB 11.7 MB/s eta 0:00:04\n",
      "   ----------------------- ---------------- 59.7/99.8 MB 11.9 MB/s eta 0:00:04\n",
      "   ------------------------ --------------- 60.2/99.8 MB 11.7 MB/s eta 0:00:04\n",
      "   ------------------------ --------------- 60.7/99.8 MB 11.9 MB/s eta 0:00:04\n",
      "   ------------------------ --------------- 61.2/99.8 MB 11.7 MB/s eta 0:00:04\n",
      "   ------------------------ --------------- 61.7/99.8 MB 11.7 MB/s eta 0:00:04\n",
      "   ------------------------ --------------- 62.2/99.8 MB 11.7 MB/s eta 0:00:04\n",
      "   ------------------------- -------------- 62.7/99.8 MB 11.9 MB/s eta 0:00:04\n",
      "   ------------------------- -------------- 63.2/99.8 MB 11.7 MB/s eta 0:00:04\n",
      "   ------------------------- -------------- 63.6/99.8 MB 11.9 MB/s eta 0:00:04\n",
      "   ------------------------- -------------- 64.1/99.8 MB 11.7 MB/s eta 0:00:04\n",
      "   ------------------------- -------------- 64.6/99.8 MB 11.9 MB/s eta 0:00:03\n",
      "   -------------------------- ------------- 65.1/99.8 MB 11.9 MB/s eta 0:00:03\n",
      "   -------------------------- ------------- 65.5/99.8 MB 11.9 MB/s eta 0:00:03\n",
      "   -------------------------- ------------- 66.0/99.8 MB 11.9 MB/s eta 0:00:03\n",
      "   -------------------------- ------------- 66.6/99.8 MB 11.9 MB/s eta 0:00:03\n",
      "   -------------------------- ------------- 67.1/99.8 MB 11.9 MB/s eta 0:00:03\n",
      "   --------------------------- ------------ 67.5/99.8 MB 11.9 MB/s eta 0:00:03\n",
      "   --------------------------- ------------ 68.0/99.8 MB 11.9 MB/s eta 0:00:03\n",
      "   --------------------------- ------------ 68.6/99.8 MB 11.9 MB/s eta 0:00:03\n",
      "   --------------------------- ------------ 69.1/99.8 MB 11.7 MB/s eta 0:00:03\n",
      "   --------------------------- ------------ 69.6/99.8 MB 11.9 MB/s eta 0:00:03\n",
      "   ---------------------------- ----------- 70.0/99.8 MB 11.7 MB/s eta 0:00:03\n",
      "   ---------------------------- ----------- 70.5/99.8 MB 11.9 MB/s eta 0:00:03\n",
      "   ---------------------------- ----------- 71.0/99.8 MB 11.9 MB/s eta 0:00:03\n",
      "   ---------------------------- ----------- 71.4/99.8 MB 11.9 MB/s eta 0:00:03\n",
      "   ---------------------------- ----------- 71.9/99.8 MB 11.9 MB/s eta 0:00:03\n",
      "   ----------------------------- ---------- 72.4/99.8 MB 11.7 MB/s eta 0:00:03\n",
      "   ----------------------------- ---------- 72.9/99.8 MB 11.9 MB/s eta 0:00:03\n",
      "   ----------------------------- ---------- 73.3/99.8 MB 11.7 MB/s eta 0:00:03\n",
      "   ----------------------------- ---------- 73.8/99.8 MB 11.9 MB/s eta 0:00:03\n",
      "   ----------------------------- ---------- 74.3/99.8 MB 11.9 MB/s eta 0:00:03\n",
      "   ------------------------------ --------- 74.8/99.8 MB 11.7 MB/s eta 0:00:03\n",
      "   ------------------------------ --------- 75.4/99.8 MB 11.7 MB/s eta 0:00:03\n",
      "   ------------------------------ --------- 75.8/99.8 MB 11.9 MB/s eta 0:00:03\n",
      "   ------------------------------ --------- 76.3/99.8 MB 11.7 MB/s eta 0:00:03\n",
      "   ------------------------------ --------- 76.8/99.8 MB 11.9 MB/s eta 0:00:02\n",
      "   ------------------------------ --------- 77.3/99.8 MB 11.9 MB/s eta 0:00:02\n",
      "   ------------------------------- -------- 77.7/99.8 MB 11.9 MB/s eta 0:00:02\n",
      "   ------------------------------- -------- 78.2/99.8 MB 11.9 MB/s eta 0:00:02\n",
      "   ------------------------------- -------- 78.7/99.8 MB 11.7 MB/s eta 0:00:02\n",
      "   ------------------------------- -------- 79.1/99.8 MB 11.9 MB/s eta 0:00:02\n",
      "   ------------------------------- -------- 79.6/99.8 MB 11.7 MB/s eta 0:00:02\n",
      "   -------------------------------- ------- 80.1/99.8 MB 11.9 MB/s eta 0:00:02\n",
      "   -------------------------------- ------- 80.6/99.8 MB 11.9 MB/s eta 0:00:02\n",
      "   -------------------------------- ------- 81.0/99.8 MB 11.9 MB/s eta 0:00:02\n",
      "   -------------------------------- ------- 81.5/99.8 MB 11.7 MB/s eta 0:00:02\n",
      "   -------------------------------- ------- 82.0/99.8 MB 11.9 MB/s eta 0:00:02\n",
      "   --------------------------------- ------ 82.5/99.8 MB 11.9 MB/s eta 0:00:02\n",
      "   --------------------------------- ------ 82.9/99.8 MB 11.7 MB/s eta 0:00:02\n",
      "   --------------------------------- ------ 83.4/99.8 MB 11.9 MB/s eta 0:00:02\n",
      "   --------------------------------- ------ 83.9/99.8 MB 11.7 MB/s eta 0:00:02\n",
      "   --------------------------------- ------ 84.3/99.8 MB 11.9 MB/s eta 0:00:02\n",
      "   ---------------------------------- ----- 84.8/99.8 MB 11.9 MB/s eta 0:00:02\n",
      "   ---------------------------------- ----- 85.3/99.8 MB 11.9 MB/s eta 0:00:02\n",
      "   ---------------------------------- ----- 85.8/99.8 MB 11.9 MB/s eta 0:00:02\n",
      "   ---------------------------------- ----- 86.3/99.8 MB 11.7 MB/s eta 0:00:02\n",
      "   ---------------------------------- ----- 86.7/99.8 MB 11.9 MB/s eta 0:00:02\n",
      "   ---------------------------------- ----- 87.2/99.8 MB 11.7 MB/s eta 0:00:02\n",
      "   ----------------------------------- ---- 87.7/99.8 MB 11.9 MB/s eta 0:00:02\n",
      "   ----------------------------------- ---- 88.2/99.8 MB 11.9 MB/s eta 0:00:01\n",
      "   ----------------------------------- ---- 88.8/99.8 MB 11.9 MB/s eta 0:00:01\n",
      "   ----------------------------------- ---- 89.3/99.8 MB 11.7 MB/s eta 0:00:01\n",
      "   ----------------------------------- ---- 89.7/99.8 MB 11.9 MB/s eta 0:00:01\n",
      "   ------------------------------------ --- 90.2/99.8 MB 11.9 MB/s eta 0:00:01\n",
      "   ------------------------------------ --- 90.7/99.8 MB 11.7 MB/s eta 0:00:01\n",
      "   ------------------------------------ --- 91.2/99.8 MB 11.9 MB/s eta 0:00:01\n",
      "   ------------------------------------ --- 91.7/99.8 MB 11.9 MB/s eta 0:00:01\n",
      "   ------------------------------------ --- 92.1/99.8 MB 11.9 MB/s eta 0:00:01\n",
      "   ------------------------------------- -- 92.7/99.8 MB 11.9 MB/s eta 0:00:01\n",
      "   ------------------------------------- -- 93.2/99.8 MB 11.9 MB/s eta 0:00:01\n",
      "   ------------------------------------- -- 93.8/99.8 MB 11.9 MB/s eta 0:00:01\n",
      "   ------------------------------------- -- 94.3/99.8 MB 11.9 MB/s eta 0:00:01\n",
      "   -------------------------------------- - 94.9/99.8 MB 11.9 MB/s eta 0:00:01\n",
      "   -------------------------------------- - 95.4/99.8 MB 11.7 MB/s eta 0:00:01\n",
      "   -------------------------------------- - 95.9/99.8 MB 11.7 MB/s eta 0:00:01\n",
      "   -------------------------------------- - 96.5/99.8 MB 11.7 MB/s eta 0:00:01\n",
      "   -------------------------------------- - 96.9/99.8 MB 11.9 MB/s eta 0:00:01\n",
      "   ---------------------------------------  97.5/99.8 MB 11.9 MB/s eta 0:00:01\n",
      "   ---------------------------------------  98.0/99.8 MB 11.9 MB/s eta 0:00:01\n",
      "   ---------------------------------------  98.4/99.8 MB 11.9 MB/s eta 0:00:01\n",
      "   ---------------------------------------  98.9/99.8 MB 11.9 MB/s eta 0:00:01\n",
      "   ---------------------------------------  99.5/99.8 MB 11.9 MB/s eta 0:00:01\n",
      "   ---------------------------------------  99.7/99.8 MB 11.7 MB/s eta 0:00:01\n",
      "   ---------------------------------------  99.7/99.8 MB 11.7 MB/s eta 0:00:01\n",
      "   ---------------------------------------  99.7/99.8 MB 11.7 MB/s eta 0:00:01\n",
      "   ---------------------------------------  99.7/99.8 MB 11.7 MB/s eta 0:00:01\n",
      "   ---------------------------------------  99.7/99.8 MB 11.7 MB/s eta 0:00:01\n",
      "   ---------------------------------------  99.7/99.8 MB 11.7 MB/s eta 0:00:01\n",
      "   ---------------------------------------  99.7/99.8 MB 11.7 MB/s eta 0:00:01\n",
      "   ---------------------------------------  99.7/99.8 MB 11.7 MB/s eta 0:00:01\n",
      "   ---------------------------------------- 99.8/99.8 MB 8.0 MB/s eta 0:00:00\n",
      "Installing collected packages: xgboost\n",
      "Successfully installed xgboost-2.0.2\n"
     ]
    }
   ],
   "source": [
    "!pip install xgboost"
   ]
  },
  {
   "cell_type": "markdown",
   "metadata": {},
   "source": [
    "Проімпортуйте необхідні пакети"
   ]
  },
  {
   "cell_type": "code",
   "execution_count": 2,
   "metadata": {
    "ExecuteTime": {
     "end_time": "2023-12-07T00:07:31.593976400Z",
     "start_time": "2023-12-07T00:07:30.687019400Z"
    }
   },
   "outputs": [],
   "source": [
    "import numpy as np\n",
    "np_seed = 42\n",
    "\n",
    "import pandas as pd\n",
    "\n",
    "from sklearn.preprocessing import LabelEncoder\n",
    "\n",
    "from sklearn.tree import DecisionTreeClassifier\n",
    "from sklearn.ensemble import RandomForestClassifier, RandomForestRegressor\n",
    "\n",
    "from xgboost import XGBClassifier, XGBRegressor\n",
    "\n",
    "# classification metrics\n",
    "from sklearn.metrics import accuracy_score, precision_score, recall_score, f1_score, classification_report\n",
    "# regression metrics\n",
    "from sklearn.metrics import explained_variance_score, mean_absolute_error, mean_squared_error\n",
    "\n",
    "import matplotlib as mpl\n",
    "from matplotlib import pyplot as plt\n",
    "\n",
    "%matplotlib inline"
   ]
  },
  {
   "cell_type": "markdown",
   "metadata": {},
   "source": [
    "## Обробка даних"
   ]
  },
  {
   "cell_type": "markdown",
   "metadata": {},
   "source": [
    "В межах даної вправи ми використаємо датасет з навчальними успіхами з математики з двох навчальних закладів Португалії (Gabriel Pereira та Mousinho da Silveira). В Португалії діє 20-бальна система, [детальніше тут](https://en.wikipedia.org/wiki/Academic_grading_in_Portugal).\n",
    "\n",
    "З датасету ми приберемо оцінки за модулі (колонки `G1` та `G2` та залишимо виключно кінцеву оцінку `G3`, перейменувавши її в `Grade`)."
   ]
  },
  {
   "cell_type": "code",
   "execution_count": 3,
   "metadata": {
    "ExecuteTime": {
     "end_time": "2023-12-07T00:07:35.642694900Z",
     "start_time": "2023-12-07T00:07:35.569656900Z"
    }
   },
   "outputs": [
    {
     "data": {
      "text/plain": "  school sex  age address famsize Pstatus  Medu  Fedu      Mjob      Fjob  \\\n0     GP   F   18       U     GT3       A     4     4   at_home   teacher   \n1     GP   F   17       U     GT3       T     1     1   at_home     other   \n2     GP   F   15       U     LE3       T     1     1   at_home     other   \n3     GP   F   15       U     GT3       T     4     2    health  services   \n4     GP   F   16       U     GT3       T     3     3     other     other   \n5     GP   M   16       U     LE3       T     4     3  services     other   \n6     GP   M   16       U     LE3       T     2     2     other     other   \n7     GP   F   17       U     GT3       A     4     4     other   teacher   \n8     GP   M   15       U     LE3       A     3     2  services     other   \n9     GP   M   15       U     GT3       T     3     4     other     other   \n\n   ... internet romantic  famrel  freetime  goout Dalc Walc health absences  \\\n0  ...       no       no       4         3      4    1    1      3        6   \n1  ...      yes       no       5         3      3    1    1      3        4   \n2  ...      yes       no       4         3      2    2    3      3       10   \n3  ...      yes      yes       3         2      2    1    1      5        2   \n4  ...       no       no       4         3      2    1    2      5        4   \n5  ...      yes       no       5         4      2    1    2      5       10   \n6  ...      yes       no       4         4      4    1    1      3        0   \n7  ...       no       no       4         1      4    1    1      1        6   \n8  ...      yes       no       4         2      2    1    1      1        0   \n9  ...      yes       no       5         5      1    1    1      5        0   \n\n  Grade  \n0     6  \n1     6  \n2    10  \n3    15  \n4    10  \n5    15  \n6    11  \n7     6  \n8    19  \n9    15  \n\n[10 rows x 31 columns]",
      "text/html": "<div>\n<style scoped>\n    .dataframe tbody tr th:only-of-type {\n        vertical-align: middle;\n    }\n\n    .dataframe tbody tr th {\n        vertical-align: top;\n    }\n\n    .dataframe thead th {\n        text-align: right;\n    }\n</style>\n<table border=\"1\" class=\"dataframe\">\n  <thead>\n    <tr style=\"text-align: right;\">\n      <th></th>\n      <th>school</th>\n      <th>sex</th>\n      <th>age</th>\n      <th>address</th>\n      <th>famsize</th>\n      <th>Pstatus</th>\n      <th>Medu</th>\n      <th>Fedu</th>\n      <th>Mjob</th>\n      <th>Fjob</th>\n      <th>...</th>\n      <th>internet</th>\n      <th>romantic</th>\n      <th>famrel</th>\n      <th>freetime</th>\n      <th>goout</th>\n      <th>Dalc</th>\n      <th>Walc</th>\n      <th>health</th>\n      <th>absences</th>\n      <th>Grade</th>\n    </tr>\n  </thead>\n  <tbody>\n    <tr>\n      <th>0</th>\n      <td>GP</td>\n      <td>F</td>\n      <td>18</td>\n      <td>U</td>\n      <td>GT3</td>\n      <td>A</td>\n      <td>4</td>\n      <td>4</td>\n      <td>at_home</td>\n      <td>teacher</td>\n      <td>...</td>\n      <td>no</td>\n      <td>no</td>\n      <td>4</td>\n      <td>3</td>\n      <td>4</td>\n      <td>1</td>\n      <td>1</td>\n      <td>3</td>\n      <td>6</td>\n      <td>6</td>\n    </tr>\n    <tr>\n      <th>1</th>\n      <td>GP</td>\n      <td>F</td>\n      <td>17</td>\n      <td>U</td>\n      <td>GT3</td>\n      <td>T</td>\n      <td>1</td>\n      <td>1</td>\n      <td>at_home</td>\n      <td>other</td>\n      <td>...</td>\n      <td>yes</td>\n      <td>no</td>\n      <td>5</td>\n      <td>3</td>\n      <td>3</td>\n      <td>1</td>\n      <td>1</td>\n      <td>3</td>\n      <td>4</td>\n      <td>6</td>\n    </tr>\n    <tr>\n      <th>2</th>\n      <td>GP</td>\n      <td>F</td>\n      <td>15</td>\n      <td>U</td>\n      <td>LE3</td>\n      <td>T</td>\n      <td>1</td>\n      <td>1</td>\n      <td>at_home</td>\n      <td>other</td>\n      <td>...</td>\n      <td>yes</td>\n      <td>no</td>\n      <td>4</td>\n      <td>3</td>\n      <td>2</td>\n      <td>2</td>\n      <td>3</td>\n      <td>3</td>\n      <td>10</td>\n      <td>10</td>\n    </tr>\n    <tr>\n      <th>3</th>\n      <td>GP</td>\n      <td>F</td>\n      <td>15</td>\n      <td>U</td>\n      <td>GT3</td>\n      <td>T</td>\n      <td>4</td>\n      <td>2</td>\n      <td>health</td>\n      <td>services</td>\n      <td>...</td>\n      <td>yes</td>\n      <td>yes</td>\n      <td>3</td>\n      <td>2</td>\n      <td>2</td>\n      <td>1</td>\n      <td>1</td>\n      <td>5</td>\n      <td>2</td>\n      <td>15</td>\n    </tr>\n    <tr>\n      <th>4</th>\n      <td>GP</td>\n      <td>F</td>\n      <td>16</td>\n      <td>U</td>\n      <td>GT3</td>\n      <td>T</td>\n      <td>3</td>\n      <td>3</td>\n      <td>other</td>\n      <td>other</td>\n      <td>...</td>\n      <td>no</td>\n      <td>no</td>\n      <td>4</td>\n      <td>3</td>\n      <td>2</td>\n      <td>1</td>\n      <td>2</td>\n      <td>5</td>\n      <td>4</td>\n      <td>10</td>\n    </tr>\n    <tr>\n      <th>5</th>\n      <td>GP</td>\n      <td>M</td>\n      <td>16</td>\n      <td>U</td>\n      <td>LE3</td>\n      <td>T</td>\n      <td>4</td>\n      <td>3</td>\n      <td>services</td>\n      <td>other</td>\n      <td>...</td>\n      <td>yes</td>\n      <td>no</td>\n      <td>5</td>\n      <td>4</td>\n      <td>2</td>\n      <td>1</td>\n      <td>2</td>\n      <td>5</td>\n      <td>10</td>\n      <td>15</td>\n    </tr>\n    <tr>\n      <th>6</th>\n      <td>GP</td>\n      <td>M</td>\n      <td>16</td>\n      <td>U</td>\n      <td>LE3</td>\n      <td>T</td>\n      <td>2</td>\n      <td>2</td>\n      <td>other</td>\n      <td>other</td>\n      <td>...</td>\n      <td>yes</td>\n      <td>no</td>\n      <td>4</td>\n      <td>4</td>\n      <td>4</td>\n      <td>1</td>\n      <td>1</td>\n      <td>3</td>\n      <td>0</td>\n      <td>11</td>\n    </tr>\n    <tr>\n      <th>7</th>\n      <td>GP</td>\n      <td>F</td>\n      <td>17</td>\n      <td>U</td>\n      <td>GT3</td>\n      <td>A</td>\n      <td>4</td>\n      <td>4</td>\n      <td>other</td>\n      <td>teacher</td>\n      <td>...</td>\n      <td>no</td>\n      <td>no</td>\n      <td>4</td>\n      <td>1</td>\n      <td>4</td>\n      <td>1</td>\n      <td>1</td>\n      <td>1</td>\n      <td>6</td>\n      <td>6</td>\n    </tr>\n    <tr>\n      <th>8</th>\n      <td>GP</td>\n      <td>M</td>\n      <td>15</td>\n      <td>U</td>\n      <td>LE3</td>\n      <td>A</td>\n      <td>3</td>\n      <td>2</td>\n      <td>services</td>\n      <td>other</td>\n      <td>...</td>\n      <td>yes</td>\n      <td>no</td>\n      <td>4</td>\n      <td>2</td>\n      <td>2</td>\n      <td>1</td>\n      <td>1</td>\n      <td>1</td>\n      <td>0</td>\n      <td>19</td>\n    </tr>\n    <tr>\n      <th>9</th>\n      <td>GP</td>\n      <td>M</td>\n      <td>15</td>\n      <td>U</td>\n      <td>GT3</td>\n      <td>T</td>\n      <td>3</td>\n      <td>4</td>\n      <td>other</td>\n      <td>other</td>\n      <td>...</td>\n      <td>yes</td>\n      <td>no</td>\n      <td>5</td>\n      <td>5</td>\n      <td>1</td>\n      <td>1</td>\n      <td>1</td>\n      <td>5</td>\n      <td>0</td>\n      <td>15</td>\n    </tr>\n  </tbody>\n</table>\n<p>10 rows × 31 columns</p>\n</div>"
     },
     "execution_count": 3,
     "metadata": {},
     "output_type": "execute_result"
    }
   ],
   "source": [
    "def load_students_data():\n",
    "    data = pd.read_csv(\"student-mat.csv\", sep=';')\n",
    "    data.drop(columns = ['G1', 'G2'], inplace=True)\n",
    "    data.rename(columns={'G3':'Grade'}, inplace=True)\n",
    "    \n",
    "    return data\n",
    "    \n",
    "student_data = load_students_data()\n",
    "student_data.head(10)"
   ]
  },
  {
   "cell_type": "markdown",
   "metadata": {},
   "source": [
    "Інформація по даних в колонках:\n",
    "\n",
    "- school - student's school (binary: \"GP\" - Gabriel Pereira or \"MS\" - Mousinho da Silveira)\n",
    "- sex - student's sex (binary: \"F\" - female or \"M\" - male)\n",
    "- age - student's age (numeric: from 15 to 22)\n",
    "- address - student's home address type (binary: \"U\" - urban or \"R\" - rural)\n",
    "- famsize - family size (binary: \"LE3\" - less or equal to 3 or \"GT3\" - greater than 3)\n",
    "- Pstatus - parent's cohabitation status (binary: \"T\" - living together or \"A\" - apart)\n",
    "- Medu - mother's education (numeric: 0 - none,  1 - primary education (4th grade), 2 – 5th to 9th grade, 3 – secondary education or 4 – higher education)\n",
    "- Fedu - father's education (numeric: 0 - none,  1 - primary education (4th grade), 2 – 5th to 9th grade, 3 – secondary education or 4 – higher education)\n",
    "- Mjob - mother's job (nominal: \"teacher\", \"health\" care related, civil \"services\" (e.g. administrative or police), \"at_home\" or \"other\")\n",
    "- Fjob - father's job (nominal: \"teacher\", \"health\" care related, civil \"services\" (e.g. administrative or police), \"at_home\" or \"other\")\n",
    "- reason - reason to choose this school (nominal: close to \"home\", school \"reputation\", \"course\" preference or \"other\")\n",
    "- guardian - student's guardian (nominal: \"mother\", \"father\" or \"other\")\n",
    "- traveltime - home to school travel time (numeric: 1 - <15 min., 2 - 15 to 30 min., 3 - 30 min. to 1 hour, or 4 - >1 hour)\n",
    "- studytime - weekly study time (numeric: 1 - <2 hours, 2 - 2 to 5 hours, 3 - 5 to 10 hours, or 4 - >10 hours)\n",
    "- failures - number of past class failures (numeric: n if 1<=n<3, else 4)\n",
    "- schoolsup - extra educational support (binary: yes or no)\n",
    "- famsup - family educational support (binary: yes or no)\n",
    "- paid - extra paid classes within the course subject (Math) (binary: yes or no)\n",
    "- activities - extra-curricular activities (binary: yes or no)\n",
    "- nursery - attended nursery school (binary: yes or no)\n",
    "- higher - wants to take higher education (binary: yes or no)\n",
    "- internet - Internet access at home (binary: yes or no)\n",
    "- romantic - with a romantic relationship (binary: yes or no)\n",
    "- famrel - quality of family relationships (numeric: from 1 - very bad to 5 - excellent)\n",
    "- freetime - free time after school (numeric: from 1 - very low to 5 - very high)\n",
    "- goout - going out with friends (numeric: from 1 - very low to 5 - very high)\n",
    "- Dalc - workday alcohol consumption (numeric: from 1 - very low to 5 - very high)\n",
    "- Walc - weekend alcohol consumption (numeric: from 1 - very low to 5 - very high)\n",
    "- health - current health status (numeric: from 1 - very bad to 5 - very good)\n",
    "- absences - number of school absences (numeric: from 0 to 93)"
   ]
  },
  {
   "cell_type": "markdown",
   "metadata": {},
   "source": [
    "### <span style=\"color:red\">Завдання 1</span>"
   ]
  },
  {
   "cell_type": "markdown",
   "metadata": {},
   "source": [
    "<span style=\"color:red\">**a)**</span> Побудуйте лінійний графік залежності середньої оцінки студентів від того, наскільки якісні стосунки в сім'ї (`famrel`)."
   ]
  },
  {
   "cell_type": "code",
   "execution_count": 6,
   "metadata": {
    "ExecuteTime": {
     "end_time": "2023-12-07T00:10:23.835678600Z",
     "start_time": "2023-12-07T00:10:23.491835700Z"
    }
   },
   "outputs": [
    {
     "name": "stderr",
     "output_type": "stream",
     "text": [
      "C:\\Users\\Admin\\AppData\\Local\\Temp\\ipykernel_18736\\2979388663.py:1: UserWarning: No data for colormapping provided via 'c'. Parameters 'cmap' will be ignored\n",
      "  plt.scatter(student_data.famrel, student_data.Grade, s=50, cmap='spring')\n"
     ]
    },
    {
     "data": {
      "text/plain": "<Figure size 640x480 with 1 Axes>",
      "image/png": "[encoded data removed]"
     },
     "metadata": {},
     "output_type": "display_data"
    }
   ],
   "source": [
    "plt.scatter(student_data.famrel, student_data.Grade, s=50, cmap='spring')\n",
    "plt.show()"
   ]
  },
  {
   "cell_type": "markdown",
   "metadata": {},
   "source": [
    "<span style=\"color:red\">**b)**</span> Побудуйте лінійний графік залежності середньої оцінки студентів від того, скільки часу вони приділяють навчанню (`studytime`)."
   ]
  },
  {
   "cell_type": "code",
   "execution_count": 8,
   "metadata": {
    "ExecuteTime": {
     "end_time": "2023-12-07T00:12:41.252027900Z",
     "start_time": "2023-12-07T00:12:40.944866500Z"
    }
   },
   "outputs": [
    {
     "data": {
      "text/plain": "<Axes: ylabel='studytime'>"
     },
     "execution_count": 8,
     "metadata": {},
     "output_type": "execute_result"
    },
    {
     "data": {
      "text/plain": "<Figure size 640x480 with 1 Axes>",
      "image/png": "[encoded data removed]"
     },
     "metadata": {},
     "output_type": "display_data"
    }
   ],
   "source": [
    "student_data[['Grade', \"studytime\"]].groupby('studytime').sum().plot.barh()"
   ]
  },
  {
   "cell_type": "markdown",
   "metadata": {},
   "source": [
    "### <span style=\"color:red\">Завдання 2</span>"
   ]
  },
  {
   "cell_type": "markdown",
   "metadata": {},
   "source": [
    "В датасеті є ряд колонок, в яких значеннями можуть бути тільки слова `yes` та `no`. Проте, моделі машинного навчання вимагають від нас числових даних, тому у таких колонках замініть значення `yes` числом 1 та значення `no` числом 0."
   ]
  },
  {
   "cell_type": "markdown",
   "metadata": {},
   "source": [
    "<span style=\"color:red\">**a)**</span> Створіть список колонок з значеннями 'yes-no'."
   ]
  },
  {
   "cell_type": "code",
   "execution_count": 21,
   "metadata": {
    "ExecuteTime": {
     "end_time": "2023-12-07T00:17:09.300809500Z",
     "start_time": "2023-12-07T00:17:09.240702900Z"
    }
   },
   "outputs": [
    {
     "data": {
      "text/plain": "['schoolsup',\n 'famsup',\n 'paid',\n 'activities',\n 'nursery',\n 'higher',\n 'internet',\n 'romantic']"
     },
     "execution_count": 21,
     "metadata": {},
     "output_type": "execute_result"
    }
   ],
   "source": [
    "# Write column names into this array\n",
    "yes_no_cols = list(filter(lambda x: student_data[x][student_data[x] == 'yes'].any() or student_data[x][student_data[x] == 'no'].any(), student_data.columns))\n",
    "\n",
    "yes_no_cols"
   ]
  },
  {
   "cell_type": "markdown",
   "metadata": {},
   "source": [
    "<span style=\"color:red\">**b)**</span> Для колонок з `yes_no_cols` перетворіть відповідні колонки датафрейму на числові. Виведіть перші 5 записів датафрейму."
   ]
  },
  {
   "cell_type": "markdown",
   "metadata": {},
   "source": [
    "**Рекомендація**. Використайте функцію [`DataFrame.applymap`](https://pandas.pydata.org/pandas-docs/stable/reference/api/pandas.DataFrame.applymap.html)."
   ]
  },
  {
   "cell_type": "code",
   "execution_count": 35,
   "metadata": {
    "ExecuteTime": {
     "end_time": "2023-12-07T00:22:10.817202500Z",
     "start_time": "2023-12-07T00:22:10.784261900Z"
    }
   },
   "outputs": [
    {
     "data": {
      "text/plain": "    school  sex  age address famsize Pstatus  Medu  Fedu      Mjob      Fjob  \\\n0       GP    1   18       U     GT3       A     4     4   at_home   teacher   \n1       GP    1   17       U     GT3       T     1     1   at_home     other   \n2       GP    1   15       U     LE3       T     1     1   at_home     other   \n3       GP    1   15       U     GT3       T     4     2    health  services   \n4       GP    1   16       U     GT3       T     3     3     other     other   \n..     ...  ...  ...     ...     ...     ...   ...   ...       ...       ...   \n390     MS    0   20       U     LE3       A     2     2  services  services   \n391     MS    0   17       U     LE3       T     3     1  services  services   \n392     MS    0   21       R     GT3       T     1     1     other     other   \n393     MS    0   18       R     LE3       T     3     2  services     other   \n394     MS    0   19       U     LE3       T     1     1     other   at_home   \n\n     ... internet romantic  famrel  freetime  goout  Dalc  Walc  health  \\\n0    ...        0        0       4         3      4     1     1       3   \n1    ...        1        0       5         3      3     1     1       3   \n2    ...        1        0       4         3      2     2     3       3   \n3    ...        1        1       3         2      2     1     1       5   \n4    ...        0        0       4         3      2     1     2       5   \n..   ...      ...      ...     ...       ...    ...   ...   ...     ...   \n390  ...        0        0       5         5      4     4     5       4   \n391  ...        1        0       2         4      5     3     4       2   \n392  ...        0        0       5         5      3     3     3       3   \n393  ...        1        0       4         4      1     3     4       5   \n394  ...        1        0       3         2      3     3     3       5   \n\n     absences  Grade  \n0           6      6  \n1           4      6  \n2          10     10  \n3           2     15  \n4           4     10  \n..        ...    ...  \n390        11      9  \n391         3     16  \n392         3      7  \n393         0     10  \n394         5      9  \n\n[395 rows x 31 columns]",
      "text/html": "<div>\n<style scoped>\n    .dataframe tbody tr th:only-of-type {\n        vertical-align: middle;\n    }\n\n    .dataframe tbody tr th {\n        vertical-align: top;\n    }\n\n    .dataframe thead th {\n        text-align: right;\n    }\n</style>\n<table border=\"1\" class=\"dataframe\">\n  <thead>\n    <tr style=\"text-align: right;\">\n      <th></th>\n      <th>school</th>\n      <th>sex</th>\n      <th>age</th>\n      <th>address</th>\n      <th>famsize</th>\n      <th>Pstatus</th>\n      <th>Medu</th>\n      <th>Fedu</th>\n      <th>Mjob</th>\n      <th>Fjob</th>\n      <th>...</th>\n      <th>internet</th>\n      <th>romantic</th>\n      <th>famrel</th>\n      <th>freetime</th>\n      <th>goout</th>\n      <th>Dalc</th>\n      <th>Walc</th>\n      <th>health</th>\n      <th>absences</th>\n      <th>Grade</th>\n    </tr>\n  </thead>\n  <tbody>\n    <tr>\n      <th>0</th>\n      <td>GP</td>\n      <td>1</td>\n      <td>18</td>\n      <td>U</td>\n      <td>GT3</td>\n      <td>A</td>\n      <td>4</td>\n      <td>4</td>\n      <td>at_home</td>\n      <td>teacher</td>\n      <td>...</td>\n      <td>0</td>\n      <td>0</td>\n      <td>4</td>\n      <td>3</td>\n      <td>4</td>\n      <td>1</td>\n      <td>1</td>\n      <td>3</td>\n      <td>6</td>\n      <td>6</td>\n    </tr>\n    <tr>\n      <th>1</th>\n      <td>GP</td>\n      <td>1</td>\n      <td>17</td>\n      <td>U</td>\n      <td>GT3</td>\n      <td>T</td>\n      <td>1</td>\n      <td>1</td>\n      <td>at_home</td>\n      <td>other</td>\n      <td>...</td>\n      <td>1</td>\n      <td>0</td>\n      <td>5</td>\n      <td>3</td>\n      <td>3</td>\n      <td>1</td>\n      <td>1</td>\n      <td>3</td>\n      <td>4</td>\n      <td>6</td>\n    </tr>\n    <tr>\n      <th>2</th>\n      <td>GP</td>\n      <td>1</td>\n      <td>15</td>\n      <td>U</td>\n      <td>LE3</td>\n      <td>T</td>\n      <td>1</td>\n      <td>1</td>\n      <td>at_home</td>\n      <td>other</td>\n      <td>...</td>\n      <td>1</td>\n      <td>0</td>\n      <td>4</td>\n      <td>3</td>\n      <td>2</td>\n      <td>2</td>\n      <td>3</td>\n      <td>3</td>\n      <td>10</td>\n      <td>10</td>\n    </tr>\n    <tr>\n      <th>3</th>\n      <td>GP</td>\n      <td>1</td>\n      <td>15</td>\n      <td>U</td>\n      <td>GT3</td>\n      <td>T</td>\n      <td>4</td>\n      <td>2</td>\n      <td>health</td>\n      <td>services</td>\n      <td>...</td>\n      <td>1</td>\n      <td>1</td>\n      <td>3</td>\n      <td>2</td>\n      <td>2</td>\n      <td>1</td>\n      <td>1</td>\n      <td>5</td>\n      <td>2</td>\n      <td>15</td>\n    </tr>\n    <tr>\n      <th>4</th>\n      <td>GP</td>\n      <td>1</td>\n      <td>16</td>\n      <td>U</td>\n      <td>GT3</td>\n      <td>T</td>\n      <td>3</td>\n      <td>3</td>\n      <td>other</td>\n      <td>other</td>\n      <td>...</td>\n      <td>0</td>\n      <td>0</td>\n      <td>4</td>\n      <td>3</td>\n      <td>2</td>\n      <td>1</td>\n      <td>2</td>\n      <td>5</td>\n      <td>4</td>\n      <td>10</td>\n    </tr>\n    <tr>\n      <th>...</th>\n      <td>...</td>\n      <td>...</td>\n      <td>...</td>\n      <td>...</td>\n      <td>...</td>\n      <td>...</td>\n      <td>...</td>\n      <td>...</td>\n      <td>...</td>\n      <td>...</td>\n      <td>...</td>\n      <td>...</td>\n      <td>...</td>\n      <td>...</td>\n      <td>...</td>\n      <td>...</td>\n      <td>...</td>\n      <td>...</td>\n      <td>...</td>\n      <td>...</td>\n      <td>...</td>\n    </tr>\n    <tr>\n      <th>390</th>\n      <td>MS</td>\n      <td>0</td>\n      <td>20</td>\n      <td>U</td>\n      <td>LE3</td>\n      <td>A</td>\n      <td>2</td>\n      <td>2</td>\n      <td>services</td>\n      <td>services</td>\n      <td>...</td>\n      <td>0</td>\n      <td>0</td>\n      <td>5</td>\n      <td>5</td>\n      <td>4</td>\n      <td>4</td>\n      <td>5</td>\n      <td>4</td>\n      <td>11</td>\n      <td>9</td>\n    </tr>\n    <tr>\n      <th>391</th>\n      <td>MS</td>\n      <td>0</td>\n      <td>17</td>\n      <td>U</td>\n      <td>LE3</td>\n      <td>T</td>\n      <td>3</td>\n      <td>1</td>\n      <td>services</td>\n      <td>services</td>\n      <td>...</td>\n      <td>1</td>\n      <td>0</td>\n      <td>2</td>\n      <td>4</td>\n      <td>5</td>\n      <td>3</td>\n      <td>4</td>\n      <td>2</td>\n      <td>3</td>\n      <td>16</td>\n    </tr>\n    <tr>\n      <th>392</th>\n      <td>MS</td>\n      <td>0</td>\n      <td>21</td>\n      <td>R</td>\n      <td>GT3</td>\n      <td>T</td>\n      <td>1</td>\n      <td>1</td>\n      <td>other</td>\n      <td>other</td>\n      <td>...</td>\n      <td>0</td>\n      <td>0</td>\n      <td>5</td>\n      <td>5</td>\n      <td>3</td>\n      <td>3</td>\n      <td>3</td>\n      <td>3</td>\n      <td>3</td>\n      <td>7</td>\n    </tr>\n    <tr>\n      <th>393</th>\n      <td>MS</td>\n      <td>0</td>\n      <td>18</td>\n      <td>R</td>\n      <td>LE3</td>\n      <td>T</td>\n      <td>3</td>\n      <td>2</td>\n      <td>services</td>\n      <td>other</td>\n      <td>...</td>\n      <td>1</td>\n      <td>0</td>\n      <td>4</td>\n      <td>4</td>\n      <td>1</td>\n      <td>3</td>\n      <td>4</td>\n      <td>5</td>\n      <td>0</td>\n      <td>10</td>\n    </tr>\n    <tr>\n      <th>394</th>\n      <td>MS</td>\n      <td>0</td>\n      <td>19</td>\n      <td>U</td>\n      <td>LE3</td>\n      <td>T</td>\n      <td>1</td>\n      <td>1</td>\n      <td>other</td>\n      <td>at_home</td>\n      <td>...</td>\n      <td>1</td>\n      <td>0</td>\n      <td>3</td>\n      <td>2</td>\n      <td>3</td>\n      <td>3</td>\n      <td>3</td>\n      <td>5</td>\n      <td>5</td>\n      <td>9</td>\n    </tr>\n  </tbody>\n</table>\n<p>395 rows × 31 columns</p>\n</div>"
     },
     "execution_count": 35,
     "metadata": {},
     "output_type": "execute_result"
    }
   ],
   "source": [
    "student_data[yes_no_cols] = student_data[yes_no_cols].applymap(lambda val: int(val == 'yes'))\n",
    "\n",
    "student_data"
   ]
  },
  {
   "cell_type": "markdown",
   "metadata": {},
   "source": [
    "<span style=\"color:red\">**c)**</span> Для колонки `sex` замініть значення 'M' на 0 та 'F' на 1. Виведіть перші 5 записів датафрейму."
   ]
  },
  {
   "cell_type": "code",
   "execution_count": 34,
   "metadata": {
    "ExecuteTime": {
     "end_time": "2023-12-07T00:22:08.629141900Z",
     "start_time": "2023-12-07T00:22:08.599937100Z"
    }
   },
   "outputs": [
    {
     "data": {
      "text/plain": "0    1\n1    1\n2    1\n3    1\n4    1\nName: sex, dtype: int64"
     },
     "execution_count": 34,
     "metadata": {},
     "output_type": "execute_result"
    }
   ],
   "source": [
    "student_data[['sex']] = student_data[['sex']].applymap(lambda sex: int(sex == 'F'))\n",
    "\n",
    "student_data['sex'].head(5)"
   ]
  },
  {
   "cell_type": "markdown",
   "metadata": {},
   "source": [
    "Поділимо дані на навчальний та тестовий датасети."
   ]
  },
  {
   "cell_type": "code",
   "execution_count": 36,
   "metadata": {
    "ExecuteTime": {
     "end_time": "2023-12-07T00:22:20.480005200Z",
     "start_time": "2023-12-07T00:22:20.452718400Z"
    }
   },
   "outputs": [
    {
     "data": {
      "text/plain": "   school  sex  age address famsize Pstatus  Medu  Fedu      Mjob      Fjob  \\\n0      GP    1   18       U     GT3       A     4     4   at_home   teacher   \n3      GP    1   15       U     GT3       T     4     2    health  services   \n4      GP    1   16       U     GT3       T     3     3     other     other   \n5      GP    0   16       U     LE3       T     4     3  services     other   \n6      GP    0   16       U     LE3       T     2     2     other     other   \n8      GP    0   15       U     LE3       A     3     2  services     other   \n10     GP    1   15       U     GT3       T     4     4   teacher    health   \n13     GP    0   15       U     GT3       T     4     3   teacher     other   \n14     GP    0   15       U     GT3       A     2     2     other     other   \n15     GP    1   16       U     GT3       T     4     4    health     other   \n\n    ... internet romantic  famrel  freetime  goout  Dalc  Walc  health  \\\n0   ...        0        0       4         3      4     1     1       3   \n3   ...        1        1       3         2      2     1     1       5   \n4   ...        0        0       4         3      2     1     2       5   \n5   ...        1        0       5         4      2     1     2       5   \n6   ...        1        0       4         4      4     1     1       3   \n8   ...        1        0       4         2      2     1     1       1   \n10  ...        1        0       3         3      3     1     2       2   \n13  ...        1        0       5         4      3     1     2       3   \n14  ...        1        1       4         5      2     1     1       3   \n15  ...        1        0       4         4      4     1     2       2   \n\n    absences  Grade  \n0          6      6  \n3          2     15  \n4          4     10  \n5         10     15  \n6          0     11  \n8          0     19  \n10         0      9  \n13         2     11  \n14         0     16  \n15         4     14  \n\n[10 rows x 31 columns]",
      "text/html": "<div>\n<style scoped>\n    .dataframe tbody tr th:only-of-type {\n        vertical-align: middle;\n    }\n\n    .dataframe tbody tr th {\n        vertical-align: top;\n    }\n\n    .dataframe thead th {\n        text-align: right;\n    }\n</style>\n<table border=\"1\" class=\"dataframe\">\n  <thead>\n    <tr style=\"text-align: right;\">\n      <th></th>\n      <th>school</th>\n      <th>sex</th>\n      <th>age</th>\n      <th>address</th>\n      <th>famsize</th>\n      <th>Pstatus</th>\n      <th>Medu</th>\n      <th>Fedu</th>\n      <th>Mjob</th>\n      <th>Fjob</th>\n      <th>...</th>\n      <th>internet</th>\n      <th>romantic</th>\n      <th>famrel</th>\n      <th>freetime</th>\n      <th>goout</th>\n      <th>Dalc</th>\n      <th>Walc</th>\n      <th>health</th>\n      <th>absences</th>\n      <th>Grade</th>\n    </tr>\n  </thead>\n  <tbody>\n    <tr>\n      <th>0</th>\n      <td>GP</td>\n      <td>1</td>\n      <td>18</td>\n      <td>U</td>\n      <td>GT3</td>\n      <td>A</td>\n      <td>4</td>\n      <td>4</td>\n      <td>at_home</td>\n      <td>teacher</td>\n      <td>...</td>\n      <td>0</td>\n      <td>0</td>\n      <td>4</td>\n      <td>3</td>\n      <td>4</td>\n      <td>1</td>\n      <td>1</td>\n      <td>3</td>\n      <td>6</td>\n      <td>6</td>\n    </tr>\n    <tr>\n      <th>3</th>\n      <td>GP</td>\n      <td>1</td>\n      <td>15</td>\n      <td>U</td>\n      <td>GT3</td>\n      <td>T</td>\n      <td>4</td>\n      <td>2</td>\n      <td>health</td>\n      <td>services</td>\n      <td>...</td>\n      <td>1</td>\n      <td>1</td>\n      <td>3</td>\n      <td>2</td>\n      <td>2</td>\n      <td>1</td>\n      <td>1</td>\n      <td>5</td>\n      <td>2</td>\n      <td>15</td>\n    </tr>\n    <tr>\n      <th>4</th>\n      <td>GP</td>\n      <td>1</td>\n      <td>16</td>\n      <td>U</td>\n      <td>GT3</td>\n      <td>T</td>\n      <td>3</td>\n      <td>3</td>\n      <td>other</td>\n      <td>other</td>\n      <td>...</td>\n      <td>0</td>\n      <td>0</td>\n      <td>4</td>\n      <td>3</td>\n      <td>2</td>\n      <td>1</td>\n      <td>2</td>\n      <td>5</td>\n      <td>4</td>\n      <td>10</td>\n    </tr>\n    <tr>\n      <th>5</th>\n      <td>GP</td>\n      <td>0</td>\n      <td>16</td>\n      <td>U</td>\n      <td>LE3</td>\n      <td>T</td>\n      <td>4</td>\n      <td>3</td>\n      <td>services</td>\n      <td>other</td>\n      <td>...</td>\n      <td>1</td>\n      <td>0</td>\n      <td>5</td>\n      <td>4</td>\n      <td>2</td>\n      <td>1</td>\n      <td>2</td>\n      <td>5</td>\n      <td>10</td>\n      <td>15</td>\n    </tr>\n    <tr>\n      <th>6</th>\n      <td>GP</td>\n      <td>0</td>\n      <td>16</td>\n      <td>U</td>\n      <td>LE3</td>\n      <td>T</td>\n      <td>2</td>\n      <td>2</td>\n      <td>other</td>\n      <td>other</td>\n      <td>...</td>\n      <td>1</td>\n      <td>0</td>\n      <td>4</td>\n      <td>4</td>\n      <td>4</td>\n      <td>1</td>\n      <td>1</td>\n      <td>3</td>\n      <td>0</td>\n      <td>11</td>\n    </tr>\n    <tr>\n      <th>8</th>\n      <td>GP</td>\n      <td>0</td>\n      <td>15</td>\n      <td>U</td>\n      <td>LE3</td>\n      <td>A</td>\n      <td>3</td>\n      <td>2</td>\n      <td>services</td>\n      <td>other</td>\n      <td>...</td>\n      <td>1</td>\n      <td>0</td>\n      <td>4</td>\n      <td>2</td>\n      <td>2</td>\n      <td>1</td>\n      <td>1</td>\n      <td>1</td>\n      <td>0</td>\n      <td>19</td>\n    </tr>\n    <tr>\n      <th>10</th>\n      <td>GP</td>\n      <td>1</td>\n      <td>15</td>\n      <td>U</td>\n      <td>GT3</td>\n      <td>T</td>\n      <td>4</td>\n      <td>4</td>\n      <td>teacher</td>\n      <td>health</td>\n      <td>...</td>\n      <td>1</td>\n      <td>0</td>\n      <td>3</td>\n      <td>3</td>\n      <td>3</td>\n      <td>1</td>\n      <td>2</td>\n      <td>2</td>\n      <td>0</td>\n      <td>9</td>\n    </tr>\n    <tr>\n      <th>13</th>\n      <td>GP</td>\n      <td>0</td>\n      <td>15</td>\n      <td>U</td>\n      <td>GT3</td>\n      <td>T</td>\n      <td>4</td>\n      <td>3</td>\n      <td>teacher</td>\n      <td>other</td>\n      <td>...</td>\n      <td>1</td>\n      <td>0</td>\n      <td>5</td>\n      <td>4</td>\n      <td>3</td>\n      <td>1</td>\n      <td>2</td>\n      <td>3</td>\n      <td>2</td>\n      <td>11</td>\n    </tr>\n    <tr>\n      <th>14</th>\n      <td>GP</td>\n      <td>0</td>\n      <td>15</td>\n      <td>U</td>\n      <td>GT3</td>\n      <td>A</td>\n      <td>2</td>\n      <td>2</td>\n      <td>other</td>\n      <td>other</td>\n      <td>...</td>\n      <td>1</td>\n      <td>1</td>\n      <td>4</td>\n      <td>5</td>\n      <td>2</td>\n      <td>1</td>\n      <td>1</td>\n      <td>3</td>\n      <td>0</td>\n      <td>16</td>\n    </tr>\n    <tr>\n      <th>15</th>\n      <td>GP</td>\n      <td>1</td>\n      <td>16</td>\n      <td>U</td>\n      <td>GT3</td>\n      <td>T</td>\n      <td>4</td>\n      <td>4</td>\n      <td>health</td>\n      <td>other</td>\n      <td>...</td>\n      <td>1</td>\n      <td>0</td>\n      <td>4</td>\n      <td>4</td>\n      <td>4</td>\n      <td>1</td>\n      <td>2</td>\n      <td>2</td>\n      <td>4</td>\n      <td>14</td>\n    </tr>\n  </tbody>\n</table>\n<p>10 rows × 31 columns</p>\n</div>"
     },
     "execution_count": 36,
     "metadata": {},
     "output_type": "execute_result"
    }
   ],
   "source": [
    "def train_test_split(data):\n",
    "    # Here we want stable train-test split for reproducible results\n",
    "    np.random.seed(np_seed)\n",
    "    \n",
    "    msk = np.random.rand(len(data)) < 0.7\n",
    "    train = data[msk]\n",
    "    test=data[~msk]\n",
    "    \n",
    "    train_x = train.drop('Grade', axis=1)\n",
    "    train_y = train['Grade']\n",
    "    test_x = test.drop('Grade', axis=1)\n",
    "    test_y = test['Grade']\n",
    "    return (train_x, train_y, test_x, test_y)\n",
    "\n",
    "train_x, train_y, test_x, test_y = train_test_split(student_data)\n",
    "\n",
    "# Let's display some train data\n",
    "train_x.join(train_y, how='outer').head(10)"
   ]
  },
  {
   "cell_type": "markdown",
   "metadata": {},
   "source": [
    "### <span style=\"color:red\">Завдання 3</span>"
   ]
  },
  {
   "cell_type": "markdown",
   "metadata": {},
   "source": [
    " Як бачите з даних вище, в нас досі є ряд колонок, що містять текстові дані. І хоча в даному випадку ми могли б їх перетворити до поділу на навчальну та тестову вибірки, це не завжди можливо зробити, тому ми використаємо інший підхід для таких даних."
   ]
  },
  {
   "cell_type": "markdown",
   "metadata": {},
   "source": [
    "В усіх колонках, що ще містять текстові дані, є певних обмежений набір значень. В такому випадку ми можемо говорити, що ці дані є категоріальними.\n",
    "\n",
    "Прикладом категоріальних даних є наприклад група, що якої належить студент або університет в якому він навчається, оскільки є обмежений набір груп та університетів, в яких може навчатись студент."
   ]
  },
  {
   "cell_type": "markdown",
   "metadata": {},
   "source": [
    "Для того, щоб трансформувати категоріальні дані, можна використати [`LabelEncoder`](https://scikit-learn.org/stable/modules/generated/sklearn.preprocessing.LabelEncoder.html)."
   ]
  },
  {
   "cell_type": "markdown",
   "metadata": {},
   "source": [
    "<span style=\"color:red\">**a)**</span> Створіть список колонок з категоріальними текстовими даними."
   ]
  },
  {
   "cell_type": "code",
   "execution_count": 5,
   "metadata": {},
   "outputs": [],
   "source": [
    "# Write names of categorical columns of the dataframe to the list below\n",
    "categorical_cols = []"
   ]
  },
  {
   "cell_type": "markdown",
   "metadata": {},
   "source": [
    "<span style=\"color:red\">**b)**</span> Для кожної колонки з `categorical_cols` створіть свій LabelEncoder та внесіть його в словник `encoders`."
   ]
  },
  {
   "cell_type": "code",
   "execution_count": 120,
   "metadata": {},
   "outputs": [],
   "source": [
    "encoders = dict()\n",
    "# Fill up the encoders dictionary with key = column name, value = label encoder for given column\n",
    "# Write your code here"
   ]
  },
  {
   "cell_type": "markdown",
   "metadata": {},
   "source": [
    "<span style=\"color:red\">**c)**</span> На основі навчального датасету, навчіть LabelEncoder трансформувати дані."
   ]
  },
  {
   "cell_type": "code",
   "execution_count": 121,
   "metadata": {},
   "outputs": [],
   "source": [
    "# Write your code here"
   ]
  },
  {
   "cell_type": "markdown",
   "metadata": {},
   "source": [
    "<span style=\"color:red\">**d)**</span> Використовуючи навчені LabelEncoder здійсніть перетворення **навчальних та тестових** даних. Виведіть перші 5 записів тестового датасету."
   ]
  },
  {
   "cell_type": "code",
   "execution_count": 6,
   "metadata": {},
   "outputs": [],
   "source": [
    "# Write your code here"
   ]
  },
  {
   "cell_type": "markdown",
   "metadata": {},
   "source": [
    "**Зауваження**. LabelEncoder може кидати помилку `ValueError: y contains new labels`. Причиною цієї помилки може бути або ваша неважність (наприклад ви пробуєте трансформувати вже трансформовані дані), або коли у вас дійсно в тестовому датасеті є певні нові категорії, яких немає в навчальному датасеті."
   ]
  },
  {
   "cell_type": "markdown",
   "metadata": {},
   "source": [
    "Для другого випадку вам необхідно або писати \"власний велосипед\", або використовувати модифікований LabelEncoder з сторонніх бібліотек, який замінюватиме невідомі значення певних значенням поза діапазоном категорій (наприклад -1 або певне дуже велике значення).\n",
    "\n",
    "Як приклад, клас [`SafeLabelEncoder`](https://www.alkaline-ml.com/skutil/rsts/codebase/skutil_preprocessing.html) з бібліотеки `skutil`."
   ]
  },
  {
   "cell_type": "markdown",
   "metadata": {},
   "source": [
    "### <span style=\"color:red\">Завдання 4</span>"
   ]
  },
  {
   "cell_type": "markdown",
   "metadata": {},
   "source": [
    "До цього моменту, у вас повинен бути датасет, що містить виключно числові дані.\n",
    "\n",
    "<span style=\"color:red\">**a)**</span> На основі отриманих даних побудуйте (створіть на навчіть на навчальному датасеті) базову модель `DecisionTreeClassifier` з стандартними налаштуваннями. Ми будемо використовувати її для порівняння з іншими моделями. Модель збережіть у змінну `df_clf`.\n",
    "\n",
    "**Зауваження**. Оцінку студента (`Grade`) можна розглядати як категоріальну змінну (задача класифікації) або як дискретну величину (регресійний аналіз). Використовуючи класифікатори, ми розглядаємо `Grade` як набір категорій."
   ]
  },
  {
   "cell_type": "code",
   "execution_count": 7,
   "metadata": {},
   "outputs": [],
   "source": [
    "df_clf = None\n",
    "# Write your code here"
   ]
  },
  {
   "cell_type": "markdown",
   "metadata": {},
   "source": [
    "<span style=\"color:red\">**b)**</span> Попри те, що ми використовуємо класифікатори, для оцінки моделі краще орієнтуватись на відхилення у кількості балів між реальними оцінками та передбаченими. Використайте `mean_absolute_error` для оцінки якості моделі `df_clf`."
   ]
  },
  {
   "cell_type": "code",
   "execution_count": 8,
   "metadata": {},
   "outputs": [],
   "source": [
    "# Write your code here"
   ]
  },
  {
   "cell_type": "markdown",
   "metadata": {},
   "source": [
    "## RandomForest"
   ]
  },
  {
   "cell_type": "markdown",
   "metadata": {},
   "source": [
    "В Scikit-Learn є модель RandomForest, що імплементує беггінг на основі дерев прийняття рішень."
   ]
  },
  {
   "cell_type": "markdown",
   "metadata": {},
   "source": [
    "Ознайомтесь з документацією класу RandomForest.\n",
    "\n",
    "https://scikit-learn.org/stable/modules/generated/sklearn.ensemble.RandomForestClassifier.html"
   ]
  },
  {
   "cell_type": "markdown",
   "metadata": {},
   "source": [
    "Спробуємо побудувати модель на основі класифікатора RandomForest."
   ]
  },
  {
   "cell_type": "markdown",
   "metadata": {},
   "source": [
    "### <span style=\"color:red\">Завдання 5</span>"
   ]
  },
  {
   "cell_type": "markdown",
   "metadata": {},
   "source": [
    "<span style=\"color:red\">**a)**</span> Побудуйте модель `RandomForestClassifier` з кількістю дерев 100. Модель збережіть у змінну `rf_clf`."
   ]
  },
  {
   "cell_type": "markdown",
   "metadata": {},
   "source": [
    "**Зауваження** Для очікуваних результатів встановіть `random_state` в значення `np_seed`."
   ]
  },
  {
   "cell_type": "code",
   "execution_count": 9,
   "metadata": {},
   "outputs": [],
   "source": [
    "rf_clf = None\n",
    "# Write your code here"
   ]
  },
  {
   "cell_type": "markdown",
   "metadata": {},
   "source": [
    "<span style=\"color:red\">**b)**</span> Використайте `mean_absolute_error` для оцінки якості моделі `rf_clf`. Як змінилась якість моделі в порівнянні з `DecisionTreeClassifier`?."
   ]
  },
  {
   "cell_type": "code",
   "execution_count": 10,
   "metadata": {},
   "outputs": [],
   "source": [
    "# Write your code here"
   ]
  },
  {
   "cell_type": "markdown",
   "metadata": {},
   "source": [
    "<span style=\"color:red\">**c)**</span> Створіть нову модель RandomForestClassifier з кількістю дерев 1000. Проведіть оцінку аналонічно до попедеднього завдання. Як змінилась якість моделі в порівнянні з `RandomForestClassifier` на 100 дерев?"
   ]
  },
  {
   "cell_type": "markdown",
   "metadata": {},
   "source": [
    "**Зауваження** Для очікуваних результатів встановіть `random_state` в значення `np_seed`."
   ]
  },
  {
   "cell_type": "code",
   "execution_count": 11,
   "metadata": {},
   "outputs": [],
   "source": [
    "# Write your code here"
   ]
  },
  {
   "cell_type": "markdown",
   "metadata": {},
   "source": [
    "<span style=\"color:red\">**d)**</span> Спробуйте оптимізувати точність моделі на 100 дерев з домогою додаткових параметрів. Доволі часто покращити якість моделі можна відсіявши одиночні викиди. У випадку дерев прийняття рішень, це можна зробити збільшивши мінімальну необхідну кількість записів для створення \"листка\" дерева (`min_samples_leaf`)."
   ]
  },
  {
   "cell_type": "markdown",
   "metadata": {},
   "source": [
    "**Зауваження** Для очікуваних результатів встановіть `random_state` в значення `np_seed`."
   ]
  },
  {
   "cell_type": "code",
   "execution_count": 12,
   "metadata": {},
   "outputs": [],
   "source": [
    "# Write your code here"
   ]
  },
  {
   "cell_type": "markdown",
   "metadata": {},
   "source": [
    "## XGBoost"
   ]
  },
  {
   "cell_type": "markdown",
   "metadata": {},
   "source": [
    "Метод бустінгу на основі дерев прийняття рішень імплементовано в пакеті xgboost."
   ]
  },
  {
   "cell_type": "markdown",
   "metadata": {},
   "source": [
    "### <span style=\"color:red\">Завдання 6</span>"
   ]
  },
  {
   "cell_type": "markdown",
   "metadata": {},
   "source": [
    "<span style=\"color:red\">**a)**</span> Побудуйте модель `XGBClassifier` з кількістю дерев 100. Модель збережіть у змінну `xgb_clf`."
   ]
  },
  {
   "cell_type": "markdown",
   "metadata": {},
   "source": [
    "**Зауваження** Для очікуваних результатів встановіть `random_state` в значення `np_seed`."
   ]
  },
  {
   "cell_type": "code",
   "execution_count": 13,
   "metadata": {},
   "outputs": [],
   "source": [
    "xgb_clf = None\n",
    "# Write your code here"
   ]
  },
  {
   "cell_type": "markdown",
   "metadata": {},
   "source": [
    "<span style=\"color:red\">**b)**</span> Використайте `mean_absolute_error` для оцінки якості моделі `xgb_clf`. Як змінилась якість моделі в порівнянні з `DecisionTreeClassifier` та `RandomForestClassifier` з стандартними параметрами?"
   ]
  },
  {
   "cell_type": "code",
   "execution_count": 14,
   "metadata": {},
   "outputs": [],
   "source": [
    "# Write your code here"
   ]
  },
  {
   "cell_type": "markdown",
   "metadata": {},
   "source": [
    "<span style=\"color:red\">**c)**</span> Спробуйте оптимізувати точність моделі на 100 дерев з домогою додаткових параметрів. По замовчуванню, 'XGBClassifier' ставить малу максимальну глибину внутрішніх дерев (`max_depth`), спробуйте збільшити її та подивіться як змінюється якість моделі."
   ]
  },
  {
   "cell_type": "markdown",
   "metadata": {},
   "source": [
    "**Зауваження** Для очікуваних результатів встановіть `random_state` в значення `np_seed`."
   ]
  },
  {
   "cell_type": "code",
   "execution_count": 15,
   "metadata": {},
   "outputs": [],
   "source": [
    "# Write your code here"
   ]
  },
  {
   "cell_type": "markdown",
   "metadata": {},
   "source": [
    "## Регресійний аналіз"
   ]
  },
  {
   "cell_type": "markdown",
   "metadata": {},
   "source": [
    "Для даного датасету оцінку студента краще розглядати як дискретну величину в діапазоні від 0 до 20 і проводити регресійний аналіз."
   ]
  },
  {
   "cell_type": "markdown",
   "metadata": {},
   "source": [
    "### <span style=\"color:red\">Завдання 7</span>"
   ]
  },
  {
   "cell_type": "markdown",
   "metadata": {},
   "source": [
    "Замість `RandomForestClassifier` використайте [`RandomForestRegressor`](https://scikit-learn.org/stable/modules/generated/sklearn.ensemble.RandomForestRegressor.html) з параметрами, аналогічними, до тих, що ви встановили в вправі `5.d`. Модель запишіть в змінну `rf_reg`. Як змінилась якість моделі."
   ]
  },
  {
   "cell_type": "markdown",
   "metadata": {},
   "source": [
    "**Зауваження** Для очікуваних результатів встановіть `random_state` в значення `np_seed`."
   ]
  },
  {
   "cell_type": "code",
   "execution_count": 16,
   "metadata": {},
   "outputs": [],
   "source": [
    "rf_reg = None\n",
    "# Write your code here"
   ]
  },
  {
   "cell_type": "markdown",
   "metadata": {},
   "source": [
    "### <span style=\"color:red\">Завдання 8</span>"
   ]
  },
  {
   "cell_type": "markdown",
   "metadata": {},
   "source": [
    "Замість `XGBClassifier` використайте `XGBRegressor` з параметрами, аналогічними, до тих, що ви встановили в вправі `6.с`. Модель запишіть в змінну `xgb_reg`. Як змінилась якість моделі."
   ]
  },
  {
   "cell_type": "markdown",
   "metadata": {},
   "source": [
    "**Зауваження** Для очікуваних результатів встановіть `random_state` в значення `np_seed`."
   ]
  },
  {
   "cell_type": "code",
   "execution_count": 17,
   "metadata": {},
   "outputs": [],
   "source": [
    "xgb_reg = None\n",
    "# Write your code here"
   ]
  },
  {
   "cell_type": "markdown",
   "metadata": {},
   "source": [
    "## Insights"
   ]
  },
  {
   "cell_type": "markdown",
   "metadata": {},
   "source": [
    "Використовуючи дерева прийняття рішень ви також можете отримати деяку додаткову інформацію про дані. Наприклад, ви можете визначити відносний ступінь впливу кожної характеристики на кінцевий результат."
   ]
  },
  {
   "cell_type": "markdown",
   "metadata": {},
   "source": [
    "### <span style=\"color:red\">Завдання 9</span>"
   ]
  },
  {
   "cell_type": "markdown",
   "metadata": {},
   "source": [
    "Використайте поле `feature_importances_` моделі `RandomForestRegressor` для того, щоб отримати ступені вприву характеристик навчального датасету. Поіндексно згрупуйте їх з назвами характеристик (назви колонок навчального датафрейму) використовуючи Python-функцію `zip`. Посортуйте отриманий список за допомогою Python функції `sorted` у спадаючому порядку (від більшого до меншого) за важливістю характеристик. Виведіть список характеристик з їх впривом."
   ]
  },
  {
   "cell_type": "code",
   "execution_count": 18,
   "metadata": {},
   "outputs": [],
   "source": [
    "# Write your code here"
   ]
  },
  {
   "cell_type": "code",
   "execution_count": null,
   "metadata": {},
   "outputs": [],
   "source": []
  }
 ],
 "metadata": {
  "kernelspec": {
   "display_name": "Python 3",
   "language": "python",
   "name": "python3"
  },
  "language_info": {
   "codemirror_mode": {
    "name": "ipython",
    "version": 3
   },
   "file_extension": ".py",
   "mimetype": "text/x-python",
   "name": "python",
   "nbconvert_exporter": "python",
   "pygments_lexer": "ipython3",
   "version": "3.7.3"
  }
 },
 "nbformat": 4,
 "nbformat_minor": 2
}
